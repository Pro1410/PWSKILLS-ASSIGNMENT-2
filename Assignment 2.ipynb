{
 "cells": [
  {
   "cell_type": "code",
   "execution_count": 1,
   "id": "d49e403f",
   "metadata": {},
   "outputs": [],
   "source": [
    "#Assignment 2"
   ]
  },
  {
   "cell_type": "code",
   "execution_count": 2,
   "id": "403f2814",
   "metadata": {},
   "outputs": [],
   "source": [
    "#calculate the sum, difference, product ad quotient of two numbers"
   ]
  },
  {
   "cell_type": "code",
   "execution_count": 3,
   "id": "ec240430",
   "metadata": {},
   "outputs": [
    {
     "name": "stdout",
     "output_type": "stream",
     "text": [
      "600\n"
     ]
    }
   ],
   "source": [
    "a = 250\n",
    "b = 350\n",
    "#sum\n",
    "print(a+b)"
   ]
  },
  {
   "cell_type": "code",
   "execution_count": 4,
   "id": "3a7b0bea",
   "metadata": {},
   "outputs": [
    {
     "name": "stdout",
     "output_type": "stream",
     "text": [
      "100\n"
     ]
    }
   ],
   "source": [
    "#diff\n",
    "print(b-a)"
   ]
  },
  {
   "cell_type": "code",
   "execution_count": 5,
   "id": "3b028296",
   "metadata": {},
   "outputs": [
    {
     "name": "stdout",
     "output_type": "stream",
     "text": [
      "87500\n"
     ]
    }
   ],
   "source": [
    "#product\n",
    "print(a*b)"
   ]
  },
  {
   "cell_type": "code",
   "execution_count": 6,
   "id": "9f57cd06",
   "metadata": {},
   "outputs": [
    {
     "name": "stdout",
     "output_type": "stream",
     "text": [
      "0\n"
     ]
    }
   ],
   "source": [
    "#quotient\n",
    "print(a//b)"
   ]
  },
  {
   "cell_type": "code",
   "execution_count": 7,
   "id": "472cb304",
   "metadata": {},
   "outputs": [],
   "source": [
    "#Perform various assignment operations on a Variable."
   ]
  },
  {
   "cell_type": "code",
   "execution_count": 8,
   "id": "63086f04",
   "metadata": {},
   "outputs": [
    {
     "name": "stdout",
     "output_type": "stream",
     "text": [
      "300\n"
     ]
    }
   ],
   "source": [
    "#1. +=\n",
    "x = 200\n",
    "y = 100\n",
    "x+=y\n",
    "print(x)"
   ]
  },
  {
   "cell_type": "code",
   "execution_count": 9,
   "id": "c28ac925",
   "metadata": {},
   "outputs": [
    {
     "name": "stdout",
     "output_type": "stream",
     "text": [
      "-200\n"
     ]
    }
   ],
   "source": [
    "#2. -=\n",
    "x = 400\n",
    "y = 600\n",
    "x-=y\n",
    "print(x)"
   ]
  },
  {
   "cell_type": "code",
   "execution_count": 11,
   "id": "521dc7e0",
   "metadata": {},
   "outputs": [
    {
     "name": "stdout",
     "output_type": "stream",
     "text": [
      "12000\n"
     ]
    }
   ],
   "source": [
    "#3. *=\n",
    "x = 400\n",
    "y = 30\n",
    "x*=y\n",
    "print(x)"
   ]
  },
  {
   "cell_type": "code",
   "execution_count": 12,
   "id": "9b662c0c",
   "metadata": {},
   "outputs": [
    {
     "name": "stdout",
     "output_type": "stream",
     "text": [
      "2.0\n"
     ]
    }
   ],
   "source": [
    "#4. /=\n",
    "x = 20\n",
    "y = 10\n",
    "x/=y\n",
    "print(x)"
   ]
  },
  {
   "cell_type": "code",
   "execution_count": 13,
   "id": "d161244e",
   "metadata": {},
   "outputs": [
    {
     "name": "stdout",
     "output_type": "stream",
     "text": [
      "121\n"
     ]
    }
   ],
   "source": [
    "#5. **=\n",
    "x = 11\n",
    "y = 2\n",
    "x**=y\n",
    "print(x)"
   ]
  },
  {
   "cell_type": "code",
   "execution_count": 14,
   "id": "6cd5dd4f",
   "metadata": {},
   "outputs": [],
   "source": [
    "#Check conditions using logical operators."
   ]
  },
  {
   "cell_type": "code",
   "execution_count": 15,
   "id": "74241ade",
   "metadata": {},
   "outputs": [
    {
     "name": "stdout",
     "output_type": "stream",
     "text": [
      "Please fill A' point : 70\n",
      "Please fill B' point : 10\n",
      "A is greater than B\n"
     ]
    }
   ],
   "source": [
    "a = int(input(\"Please fill A' point : \"))\n",
    "b = int(input(\"Please fill B' point : \"))\n",
    "if a>b:\n",
    "    print(\"A is greater than B\")\n",
    "elif a == b:\n",
    "    print(\"A is equal to B\")\n",
    "else:\n",
    "    print(\"A is smaller than B\")"
   ]
  },
  {
   "cell_type": "code",
   "execution_count": 16,
   "id": "39f16978",
   "metadata": {},
   "outputs": [],
   "source": [
    "# Perform bitwise operations on any two integers."
   ]
  },
  {
   "cell_type": "code",
   "execution_count": 17,
   "id": "6e737ac8",
   "metadata": {},
   "outputs": [
    {
     "name": "stdout",
     "output_type": "stream",
     "text": [
      "Insert first number : 10\n",
      "Insert first number : 23\n",
      "&operator =  2\n"
     ]
    }
   ],
   "source": [
    "# & Operator:\n",
    "\n",
    "a = int(input(\"Insert first number : \"))\n",
    "b = int(input(\"Insert first number : \"))\n",
    "print(\"&operator = \",a&b)"
   ]
  },
  {
   "cell_type": "code",
   "execution_count": 18,
   "id": "0ed5cd67",
   "metadata": {},
   "outputs": [
    {
     "name": "stdout",
     "output_type": "stream",
     "text": [
      "Insert first number : 10\n",
      "Insert first number : 23\n",
      "OR operator =  31\n"
     ]
    }
   ],
   "source": [
    "# Or Operator:\n",
    "\n",
    "a = int(input(\"Insert first number : \"))\n",
    "b = int(input(\"Insert first number : \"))\n",
    "print(\"OR operator = \",a|b)"
   ]
  },
  {
   "cell_type": "code",
   "execution_count": 22,
   "id": "28920c6c",
   "metadata": {},
   "outputs": [],
   "source": [
    "#Check the identity of variables."
   ]
  },
  {
   "cell_type": "code",
   "execution_count": 23,
   "id": "038fdfef",
   "metadata": {},
   "outputs": [
    {
     "name": "stdout",
     "output_type": "stream",
     "text": [
      "2450945273008\n",
      "140729903257064\n",
      "2451029980080\n"
     ]
    }
   ],
   "source": [
    "x = \"String\"\n",
    "y = 23\n",
    "z = 23.1\n",
    "print(id(x))\n",
    "print(id(y))\n",
    "print(id(z))"
   ]
  },
  {
   "cell_type": "code",
   "execution_count": 24,
   "id": "9ea56e34",
   "metadata": {},
   "outputs": [
    {
     "name": "stdout",
     "output_type": "stream",
     "text": [
      "2451029974320\n"
     ]
    }
   ],
   "source": [
    "x = [\"String\",\"Cases\",23.2]\n",
    "print(id(x[2]))"
   ]
  },
  {
   "cell_type": "code",
   "execution_count": 25,
   "id": "11364500",
   "metadata": {},
   "outputs": [],
   "source": [
    "#Use unary operators to change the sign of a number."
   ]
  },
  {
   "cell_type": "code",
   "execution_count": 26,
   "id": "21c435fb",
   "metadata": {},
   "outputs": [
    {
     "name": "stdout",
     "output_type": "stream",
     "text": [
      "-24\n"
     ]
    }
   ],
   "source": [
    "x = 34\n",
    "y = 10\n",
    "print(-x+y)"
   ]
  },
  {
   "cell_type": "code",
   "execution_count": 28,
   "id": "715b9d98",
   "metadata": {},
   "outputs": [
    {
     "name": "stdout",
     "output_type": "stream",
     "text": [
      "-34\n"
     ]
    }
   ],
   "source": [
    "print(-x)"
   ]
  },
  {
   "cell_type": "code",
   "execution_count": 29,
   "id": "8d2abc4d",
   "metadata": {},
   "outputs": [],
   "source": [
    "#Use the ternary operator to assign values based on conditions."
   ]
  },
  {
   "cell_type": "code",
   "execution_count": 3,
   "id": "e1a52260",
   "metadata": {},
   "outputs": [
    {
     "name": "stdout",
     "output_type": "stream",
     "text": [
      "Note: Name should not be greater than 10: pranaykumar\n",
      "re-enter the name\n"
     ]
    }
   ],
   "source": [
    "str1 = input(\"Note: Name should not be greater than 10: \")\n",
    "result = \"length is fine\" if len(str1)<=10 else \"re-enter the name\"\n",
    "print(result)\n"
   ]
  }
 ],
 "metadata": {
  "kernelspec": {
   "display_name": "Python 3 (ipykernel)",
   "language": "python",
   "name": "python3"
  },
  "language_info": {
   "codemirror_mode": {
    "name": "ipython",
    "version": 3
   },
   "file_extension": ".py",
   "mimetype": "text/x-python",
   "name": "python",
   "nbconvert_exporter": "python",
   "pygments_lexer": "ipython3",
   "version": "3.11.5"
  }
 },
 "nbformat": 4,
 "nbformat_minor": 5
}
